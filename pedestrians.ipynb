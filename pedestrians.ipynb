{
  "nbformat": 4,
  "nbformat_minor": 0,
  "metadata": {
    "colab": {
      "provenance": [],
      "gpuType": "T4",
      "authorship_tag": "ABX9TyNdmwDASlo5B7BbMZ3bII9+",
      "include_colab_link": true
    },
    "kernelspec": {
      "name": "python3",
      "display_name": "Python 3"
    },
    "language_info": {
      "name": "python"
    },
    "accelerator": "GPU"
  },
  "cells": [
    {
      "cell_type": "markdown",
      "metadata": {
        "id": "view-in-github",
        "colab_type": "text"
      },
      "source": [
        "<a href=\"https://colab.research.google.com/github/blue007-star/ldcq/blob/master/pedestrians.ipynb\" target=\"_parent\"><img src=\"https://colab.research.google.com/assets/colab-badge.svg\" alt=\"Open In Colab\"/></a>"
      ]
    },
    {
      "cell_type": "code",
      "execution_count": null,
      "metadata": {
        "id": "l-LOWbDzxQKZ"
      },
      "outputs": [],
      "source": [
        "# 安装 ultralytics（YOLOv8 官方包）\n",
        "!pip install ultralytics -U\n",
        "\n",
        "# 验证安装\n",
        "from ultralytics import YOLO\n",
        "YOLO.checks()\n"
      ]
    }
  ]
}